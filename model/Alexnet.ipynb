{
 "cells": [
  {
   "cell_type": "code",
   "execution_count": 1,
   "id": "6d25f1dd-4bd8-4a7c-bad0-401b7d0f7e7e",
   "metadata": {},
   "outputs": [],
   "source": [
    "import torch\n",
    "import torch.nn as nn\n",
    "import torch.nn.functional as F"
   ]
  },
  {
   "cell_type": "code",
   "execution_count": 2,
   "id": "123627e2-5604-4f7f-801a-7210b6406ebe",
   "metadata": {},
   "outputs": [],
   "source": [
    "device = torch.device(\"cuda\" if torch.cuda.is_available() else \"cpu\")"
   ]
  },
  {
   "cell_type": "code",
   "execution_count": 3,
   "id": "d29f8401-5558-4301-9ab2-4fe4a0381b08",
   "metadata": {
    "tags": []
   },
   "outputs": [],
   "source": [
    "class Alexnet(nn.Module):\n",
    "    def __init__(self, num_class=1000):\n",
    "        super(Alexnet, self).__init__()\n",
    "        self.layer1 = nn.Sequential(nn.Conv2d(in_channels=3, out_channels=96, kernel_size = (11,11), stride = 4),\n",
    "                          nn.ReLU(), #F.relu ----> error?\n",
    "                          nn.MaxPool2d(kernel_size = (3,3), stride = 2),\n",
    "                          nn.LocalResponseNorm(size = 5, alpha = 0.0001, beta = 0.75, k = 2))\n",
    "        self.layer2 = nn.Sequential(nn.Conv2d(in_channels = 96, out_channels = 256, kernel_size = (5,5), stride = 1, padding = 2, groups = 1),\n",
    "                          nn.ReLU(),\n",
    "                          nn.MaxPool2d(kernel_size = (3,3), stride = 2),\n",
    "                          nn.LocalResponseNorm(size = 5, alpha = 0.0001, beta = 0.75, k = 2))\n",
    "        self.layer3 = nn.Sequential(nn.Conv2d(in_channels = 256, out_channels = 384, kernel_size = (3,3), stride = 1, padding = 1, groups = 1),\n",
    "                                    nn.ReLU())\n",
    "        self.layer4 = nn.Sequential(nn.Conv2d(in_channels = 384, out_channels = 384, kernel_size = (3,3), stride = 1, padding = 1, groups = 1),\n",
    "                                    nn.ReLU())\n",
    "        self.layer5 = nn.Sequential(nn.Conv2d(in_channels = 384, out_channels = 256, kernel_size = (3,3), stride = 1, padding = 1),\n",
    "                                    nn.ReLU(),\n",
    "                                    nn.MaxPool2d(kernel_size = (3,3), stride = 2)\n",
    "                                   )\n",
    "        self.flatten = nn.Flatten(start_dim = 1)\n",
    "        self.fc2 = nn.Sequential(\n",
    "                nn.Linear(4096, 4096),\n",
    "                nn.ReLU())\n",
    "        self.classify = nn.Sequential(\n",
    "                nn.Linear(4096, num_class),\n",
    "                nn.Softmax(dim=1))\n",
    "        \n",
    "    def fc1(self,x):\n",
    "        model = nn.Sequential(\n",
    "            nn.Linear(x.shape[-1], 4096),\n",
    "            nn.ReLU()).to(device)\n",
    "        return model(x)\n",
    "        \n",
    "        \n",
    "                        \n",
    "    def forward(self, x):\n",
    "        out = self.layer1(x)\n",
    "        out = self.layer2(out)\n",
    "        out = self.layer3(out)\n",
    "        out = self.layer4(out)\n",
    "        out = self.layer5(out)\n",
    "        out = self.flatten(out)\n",
    "        out = self.fc1(out)\n",
    "        out = self.fc2(out)\n",
    "        out = self.classify(out)\n",
    "        return out"
   ]
  },
  {
   "cell_type": "code",
   "execution_count": 4,
   "id": "9276a444-e559-4c58-842f-c3a7fdbf0e3c",
   "metadata": {
    "tags": []
   },
   "outputs": [],
   "source": [
    "model = Alexnet().to(device)"
   ]
  },
  {
   "cell_type": "code",
   "execution_count": 5,
   "id": "cc13c268-1901-4090-9470-01045647cac3",
   "metadata": {
    "tags": []
   },
   "outputs": [
    {
     "data": {
      "text/plain": [
       "14"
      ]
     },
     "execution_count": 5,
     "metadata": {},
     "output_type": "execute_result"
    }
   ],
   "source": [
    "len(list(model.parameters()))"
   ]
  },
  {
   "cell_type": "code",
   "execution_count": 6,
   "id": "c8f8e498-1e6a-430b-994d-5283d09d711a",
   "metadata": {},
   "outputs": [],
   "source": [
    "import torchsummary"
   ]
  },
  {
   "cell_type": "code",
   "execution_count": 7,
   "id": "fce42b38-b6fc-4844-9b22-176ccffd56b6",
   "metadata": {
    "tags": []
   },
   "outputs": [
    {
     "name": "stdout",
     "output_type": "stream",
     "text": [
      "----------------------------------------------------------------\n",
      "        Layer (type)               Output Shape         Param #\n",
      "================================================================\n",
      "            Conv2d-1           [-1, 96, 55, 55]          34,944\n",
      "              ReLU-2           [-1, 96, 55, 55]               0\n",
      "         MaxPool2d-3           [-1, 96, 27, 27]               0\n",
      " LocalResponseNorm-4           [-1, 96, 27, 27]               0\n",
      "            Conv2d-5          [-1, 256, 27, 27]         614,656\n",
      "              ReLU-6          [-1, 256, 27, 27]               0\n",
      "         MaxPool2d-7          [-1, 256, 13, 13]               0\n",
      " LocalResponseNorm-8          [-1, 256, 13, 13]               0\n",
      "            Conv2d-9          [-1, 384, 13, 13]         885,120\n",
      "             ReLU-10          [-1, 384, 13, 13]               0\n",
      "           Conv2d-11          [-1, 384, 13, 13]       1,327,488\n",
      "             ReLU-12          [-1, 384, 13, 13]               0\n",
      "           Conv2d-13          [-1, 256, 13, 13]         884,992\n",
      "             ReLU-14          [-1, 256, 13, 13]               0\n",
      "        MaxPool2d-15            [-1, 256, 6, 6]               0\n",
      "          Flatten-16                 [-1, 9216]               0\n",
      "           Linear-17                 [-1, 4096]      16,781,312\n",
      "             ReLU-18                 [-1, 4096]               0\n",
      "           Linear-19                 [-1, 1000]       4,097,000\n",
      "          Softmax-20                 [-1, 1000]               0\n",
      "================================================================\n",
      "Total params: 24,625,512\n",
      "Trainable params: 24,625,512\n",
      "Non-trainable params: 0\n",
      "----------------------------------------------------------------\n",
      "Input size (MB): 0.59\n",
      "Forward/backward pass size (MB): 11.87\n",
      "Params size (MB): 93.94\n",
      "Estimated Total Size (MB): 106.39\n",
      "----------------------------------------------------------------\n"
     ]
    }
   ],
   "source": [
    "torchsummary.summary(model,(3,227,227))  #input =  (batch, c, h, w)"
   ]
  },
  {
   "cell_type": "code",
   "execution_count": null,
   "id": "3920a3d8-219d-421e-9f9e-60b19821a61c",
   "metadata": {},
   "outputs": [],
   "source": []
  },
  {
   "cell_type": "code",
   "execution_count": null,
   "id": "380f4cad-fc4a-48ad-8d16-728eb11b85dd",
   "metadata": {},
   "outputs": [],
   "source": []
  }
 ],
 "metadata": {
  "kernelspec": {
   "display_name": "pytorch",
   "language": "python",
   "name": "pytorch"
  },
  "language_info": {
   "codemirror_mode": {
    "name": "ipython",
    "version": 3
   },
   "file_extension": ".py",
   "mimetype": "text/x-python",
   "name": "python",
   "nbconvert_exporter": "python",
   "pygments_lexer": "ipython3",
   "version": "3.9.7"
  }
 },
 "nbformat": 4,
 "nbformat_minor": 5
}
