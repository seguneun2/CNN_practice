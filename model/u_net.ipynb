{
 "cells": [
  {
   "cell_type": "code",
   "execution_count": 1,
   "id": "f197a151-dcbb-47e4-99ef-d4f8d6c5140a",
   "metadata": {},
   "outputs": [],
   "source": [
    "import torch\n",
    "import torch.nn as nn"
   ]
  },
  {
   "cell_type": "code",
   "execution_count": 2,
   "id": "d67bc5a0-fc0b-4b3d-abd9-83e4269186ec",
   "metadata": {},
   "outputs": [],
   "source": [
    "def ConvBlock(in_dim, out_dim):\n",
    "    model =nn.Sequential(\n",
    "        nn.Conv2d(in_dim , out_dim, kernel_size = 3, stride=1),\n",
    "        nn.BatchNorm2d(out_dim),\n",
    "        nn.LeakyReLU(0.2, inplace = True))\n",
    "    return model"
   ]
  },
  {
   "cell_type": "code",
   "execution_count": null,
   "id": "8935cd09-56e7-47f4-b755-2e20c1b0affd",
   "metadata": {},
   "outputs": [],
   "source": []
  },
  {
   "cell_type": "code",
   "execution_count": 3,
   "id": "7cedb283-2f3f-4930-b0b2-30fd0b3d177c",
   "metadata": {},
   "outputs": [],
   "source": [
    "def ConvTransBlock(in_dim, out_dim):\n",
    "    model = nn.Sequential(\n",
    "        nn.ConvTranspose2d(in_dim, out_dim, kernel_size = 3, stride =2),\n",
    "        nn.BatchNorm2d(out_dim),\n",
    "        nn.LeakyReLU(0.2, inplace = True))\n",
    "    return model"
   ]
  },
  {
   "cell_type": "code",
   "execution_count": 14,
   "id": "982c2a6c-065f-433a-86e4-5e0fd9edf45b",
   "metadata": {},
   "outputs": [],
   "source": [
    "def Maxpool(odd=False): ####################input 홀수일때 패딩 1\n",
    "    pool = nn.MaxPool2d(kernel_size = 2, stride=2, padding=0)\n",
    "    if odd :\n",
    "        pool = nn.Sequential(\n",
    "            nn.ZeroPad2d((1,0,1,0)),\n",
    "            nn.MaxPool2d(kernel_size = 2, stride=2, padding=0))\n",
    "        \n",
    "    return pool"
   ]
  },
  {
   "cell_type": "code",
   "execution_count": 6,
   "id": "ea886cb8-06d0-4ea6-b19f-695964052cee",
   "metadata": {},
   "outputs": [],
   "source": [
    "def cropping(bigger, smaller):\n",
    "    diff_h = bigger.shape[2] - smaller.shape[2]\n",
    "    diff_w = bigger.shape[3] - smaller.shape[3]\n",
    "    cropped_bigger = nn.functional.pad(bigger, [0, -diff_w, 0, -diff_h])\n",
    "    return cropped_bigger"
   ]
  },
  {
   "cell_type": "code",
   "execution_count": 7,
   "id": "3c7f831c-4da8-4fbf-8410-cdf6f662436a",
   "metadata": {},
   "outputs": [],
   "source": [
    "def ConvBlock2X(in_dim, out_dim):\n",
    "    model = nn.Sequential(\n",
    "        ConvBlock(in_dim, out_dim),\n",
    "        ConvBlock(out_dim, out_dim))\n",
    "    return model"
   ]
  },
  {
   "cell_type": "code",
   "execution_count": 8,
   "id": "4240b3c3-2ba8-4e06-9f3c-4c62c2f1b9ce",
   "metadata": {},
   "outputs": [],
   "source": [
    "class Unet(nn.Module):\n",
    "    def __init__(self, in_dim, out_dim, num_filter):\n",
    "        super(Unet, self).__init__()\n",
    "        self.in_dim = in_dim\n",
    "        self.out_dim = out_dim\n",
    "        self.num_filter = num_filter  # 중간중간 사용할 conv filter수\n",
    "\n",
    "        self.down_1 = ConvBlock2X(self.in_dim, self.num_filter)\n",
    "        self.pool_1 = Maxpool()\n",
    "        self.down_2 = ConvBlock2X(self.num_filter, self.num_filter*2)\n",
    "        self.pool_2 = Maxpool()\n",
    "        self.down_3 = ConvBlock2X(self.num_filter*2, self.num_filter*4)\n",
    "        self.pool_3 = Maxpool()\n",
    "        self.down_4 = ConvBlock2X(self.num_filter*4, self.num_filter*8)\n",
    "        self.pool_4 = Maxpool()\n",
    "        \n",
    "        self.bridge = ConvBlock2X(self.num_filter*8, self.num_filter*16)\n",
    "        \n",
    "        self.trans_1 = ConvTransBlock(self.num_filter*16, self.num_filter*8) \n",
    "        # concat 해서 filter 2배.\n",
    "        self.up_1 = ConvBlock2X(self.num_filter*16, self.num_filter*8)\n",
    "        self.trans_2 = ConvTransBlock(self.num_filter*8, self.num_filter*4)\n",
    "        self.up_2 = ConvBlock2X(self.num_filter*8, self.num_filter*4)\n",
    "        self.trans_3 = ConvTransBlock(self.num_filter*4, self.num_filter*2)\n",
    "        self.up_3 = ConvBlock2X(self.num_filter*4, self.num_filter*2)\n",
    "        self.trans_4 = ConvTransBlock(self.num_filter*2, self.num_filter*1)\n",
    "        self.up_4 = ConvBlock2X(self.num_filter*2, self.num_filter)\n",
    "        \n",
    "        self.out = nn.Sequential(\n",
    "            nn.Conv2d(self.num_filter, self.out_dim, 1),\n",
    "            nn.LeakyReLU(0.2, inplace = True))\n",
    "\n",
    "    \n",
    "    def forward(self, x):\n",
    "        down_x1= self.down_1(x)\n",
    "        pool_x1= self.pool_1(down_x1)\n",
    "        down_x2= self.down_2(pool_x1)\n",
    "        pool_x2= self.pool_2(down_x2)\n",
    "        down_x3= self.down_3(pool_x2)\n",
    "        pool_x3= self.pool_3(down_x3)\n",
    "        down_x4= self.down_4(pool_x3)\n",
    "        pool_x4= self.pool_4(down_x4)\n",
    "        \n",
    "        bridge = self.bridge(pool_x4)\n",
    "        \n",
    "        trans_x1= self.trans_1(bridge)\n",
    "        cropping_x1 = cropping(down_x4, trans_x1) \n",
    "        concat_x1= torch.cat([trans_x1, cropping_x1], dim = 1) ##cropping? padiing?\n",
    "        up_x1= self.up_1(concat_x1)\n",
    "        trans_x2= self.trans_2(up_x1)\n",
    "        cropping_x2 = cropping(down_x3, trans_x2) \n",
    "        concat_x2= torch.cat([trans_x2, cropping_x2], dim = 1)\n",
    "        up_x2= self.up_2(concat_x2)\n",
    "        trans_x3= self.trans_3(up_x2)\n",
    "        cropping_x3 = cropping(down_x2, trans_x3)\n",
    "        concat_x3= torch.cat([trans_x3, cropping_x3], dim = 1)\n",
    "        up_x3= self.up_3(concat_x3)\n",
    "        trans_x4= self.trans_4(up_x3)\n",
    "        cropping_x4 = cropping(down_x1, trans_x4)\n",
    "        concat_x4= torch.cat([trans_x4, cropping_x4], dim = 1)\n",
    "        up_x4= self.up_4(concat_x4)\n",
    "        \n",
    "        out= self.out(up_x4)\n",
    "    \n",
    "        \n",
    "        return out\n",
    "        \n",
    "        \n",
    "        "
   ]
  },
  {
   "cell_type": "code",
   "execution_count": 9,
   "id": "0f897986-bf4c-4031-931b-cf37b984e295",
   "metadata": {},
   "outputs": [],
   "source": [
    "in_dim=3\n",
    "out_dim=1\n",
    "num_filter=64"
   ]
  },
  {
   "cell_type": "code",
   "execution_count": 10,
   "id": "79505aec-882d-4d1c-a860-4a7fa09c07e1",
   "metadata": {},
   "outputs": [],
   "source": [
    "device = torch.device(\"cuda\" if torch.cuda.is_available() else \"cpu\")\n",
    "model = Unet(in_dim,out_dim,num_filter).to(device)"
   ]
  },
  {
   "cell_type": "code",
   "execution_count": 11,
   "id": "cd89bf13-1b8f-4b61-bb58-5ca4b5985675",
   "metadata": {
    "tags": []
   },
   "outputs": [],
   "source": [
    "#print(model)"
   ]
  },
  {
   "cell_type": "code",
   "execution_count": 12,
   "id": "7ba6df34-f9c5-4376-99ba-df454be155e3",
   "metadata": {},
   "outputs": [],
   "source": [
    "import torchsummary"
   ]
  },
  {
   "cell_type": "code",
   "execution_count": 13,
   "id": "a2a9d384-2988-4870-a5f5-036447016a3e",
   "metadata": {
    "tags": []
   },
   "outputs": [
    {
     "name": "stdout",
     "output_type": "stream",
     "text": [
      "----------------------------------------------------------------\n",
      "        Layer (type)               Output Shape         Param #\n",
      "================================================================\n",
      "            Conv2d-1         [-1, 64, 254, 254]           1,792\n",
      "       BatchNorm2d-2         [-1, 64, 254, 254]             128\n",
      "         LeakyReLU-3         [-1, 64, 254, 254]               0\n",
      "            Conv2d-4         [-1, 64, 252, 252]          36,928\n",
      "       BatchNorm2d-5         [-1, 64, 252, 252]             128\n",
      "         LeakyReLU-6         [-1, 64, 252, 252]               0\n",
      "         MaxPool2d-7         [-1, 64, 126, 126]               0\n",
      "            Conv2d-8        [-1, 128, 124, 124]          73,856\n",
      "       BatchNorm2d-9        [-1, 128, 124, 124]             256\n",
      "        LeakyReLU-10        [-1, 128, 124, 124]               0\n",
      "           Conv2d-11        [-1, 128, 122, 122]         147,584\n",
      "      BatchNorm2d-12        [-1, 128, 122, 122]             256\n",
      "        LeakyReLU-13        [-1, 128, 122, 122]               0\n",
      "        MaxPool2d-14          [-1, 128, 61, 61]               0\n",
      "           Conv2d-15          [-1, 256, 59, 59]         295,168\n",
      "      BatchNorm2d-16          [-1, 256, 59, 59]             512\n",
      "        LeakyReLU-17          [-1, 256, 59, 59]               0\n",
      "           Conv2d-18          [-1, 256, 57, 57]         590,080\n",
      "      BatchNorm2d-19          [-1, 256, 57, 57]             512\n",
      "        LeakyReLU-20          [-1, 256, 57, 57]               0\n",
      "        MaxPool2d-21          [-1, 256, 28, 28]               0\n",
      "           Conv2d-22          [-1, 512, 26, 26]       1,180,160\n",
      "      BatchNorm2d-23          [-1, 512, 26, 26]           1,024\n",
      "        LeakyReLU-24          [-1, 512, 26, 26]               0\n",
      "           Conv2d-25          [-1, 512, 24, 24]       2,359,808\n",
      "      BatchNorm2d-26          [-1, 512, 24, 24]           1,024\n",
      "        LeakyReLU-27          [-1, 512, 24, 24]               0\n",
      "        MaxPool2d-28          [-1, 512, 12, 12]               0\n",
      "           Conv2d-29         [-1, 1024, 10, 10]       4,719,616\n",
      "      BatchNorm2d-30         [-1, 1024, 10, 10]           2,048\n",
      "        LeakyReLU-31         [-1, 1024, 10, 10]               0\n",
      "           Conv2d-32           [-1, 1024, 8, 8]       9,438,208\n",
      "      BatchNorm2d-33           [-1, 1024, 8, 8]           2,048\n",
      "        LeakyReLU-34           [-1, 1024, 8, 8]               0\n",
      "  ConvTranspose2d-35          [-1, 512, 17, 17]       4,719,104\n",
      "      BatchNorm2d-36          [-1, 512, 17, 17]           1,024\n",
      "        LeakyReLU-37          [-1, 512, 17, 17]               0\n",
      "           Conv2d-38          [-1, 512, 15, 15]       4,719,104\n",
      "      BatchNorm2d-39          [-1, 512, 15, 15]           1,024\n",
      "        LeakyReLU-40          [-1, 512, 15, 15]               0\n",
      "           Conv2d-41          [-1, 512, 13, 13]       2,359,808\n",
      "      BatchNorm2d-42          [-1, 512, 13, 13]           1,024\n",
      "        LeakyReLU-43          [-1, 512, 13, 13]               0\n",
      "  ConvTranspose2d-44          [-1, 256, 27, 27]       1,179,904\n",
      "      BatchNorm2d-45          [-1, 256, 27, 27]             512\n",
      "        LeakyReLU-46          [-1, 256, 27, 27]               0\n",
      "           Conv2d-47          [-1, 256, 25, 25]       1,179,904\n",
      "      BatchNorm2d-48          [-1, 256, 25, 25]             512\n",
      "        LeakyReLU-49          [-1, 256, 25, 25]               0\n",
      "           Conv2d-50          [-1, 256, 23, 23]         590,080\n",
      "      BatchNorm2d-51          [-1, 256, 23, 23]             512\n",
      "        LeakyReLU-52          [-1, 256, 23, 23]               0\n",
      "  ConvTranspose2d-53          [-1, 128, 47, 47]         295,040\n",
      "      BatchNorm2d-54          [-1, 128, 47, 47]             256\n",
      "        LeakyReLU-55          [-1, 128, 47, 47]               0\n",
      "           Conv2d-56          [-1, 128, 45, 45]         295,040\n",
      "      BatchNorm2d-57          [-1, 128, 45, 45]             256\n",
      "        LeakyReLU-58          [-1, 128, 45, 45]               0\n",
      "           Conv2d-59          [-1, 128, 43, 43]         147,584\n",
      "      BatchNorm2d-60          [-1, 128, 43, 43]             256\n",
      "        LeakyReLU-61          [-1, 128, 43, 43]               0\n",
      "  ConvTranspose2d-62           [-1, 64, 87, 87]          73,792\n",
      "      BatchNorm2d-63           [-1, 64, 87, 87]             128\n",
      "        LeakyReLU-64           [-1, 64, 87, 87]               0\n",
      "           Conv2d-65           [-1, 64, 85, 85]          73,792\n",
      "      BatchNorm2d-66           [-1, 64, 85, 85]             128\n",
      "        LeakyReLU-67           [-1, 64, 85, 85]               0\n",
      "           Conv2d-68           [-1, 64, 83, 83]          36,928\n",
      "      BatchNorm2d-69           [-1, 64, 83, 83]             128\n",
      "        LeakyReLU-70           [-1, 64, 83, 83]               0\n",
      "           Conv2d-71            [-1, 1, 83, 83]              65\n",
      "        LeakyReLU-72            [-1, 1, 83, 83]               0\n",
      "================================================================\n",
      "Total params: 34,527,041\n",
      "Trainable params: 34,527,041\n",
      "Non-trainable params: 0\n",
      "----------------------------------------------------------------\n",
      "Input size (MB): 0.75\n",
      "Forward/backward pass size (MB): 416.34\n",
      "Params size (MB): 131.71\n",
      "Estimated Total Size (MB): 548.80\n",
      "----------------------------------------------------------------\n"
     ]
    }
   ],
   "source": [
    "torchsummary.summary(model,(3,256,256))  #input =  (batch, c, h, w)"
   ]
  },
  {
   "cell_type": "code",
   "execution_count": null,
   "id": "166b1531-c0f8-4ef4-a7b1-52ec56f23626",
   "metadata": {},
   "outputs": [],
   "source": []
  },
  {
   "cell_type": "code",
   "execution_count": null,
   "id": "b7c741bc-12d1-4ec3-8bad-ebdbd0d61ff5",
   "metadata": {},
   "outputs": [],
   "source": []
  },
  {
   "cell_type": "code",
   "execution_count": null,
   "id": "76984c1e-214b-480b-b8cb-07854051b3e2",
   "metadata": {},
   "outputs": [],
   "source": []
  }
 ],
 "metadata": {
  "kernelspec": {
   "display_name": "pytorch",
   "language": "python",
   "name": "pytorch"
  },
  "language_info": {
   "codemirror_mode": {
    "name": "ipython",
    "version": 3
   },
   "file_extension": ".py",
   "mimetype": "text/x-python",
   "name": "python",
   "nbconvert_exporter": "python",
   "pygments_lexer": "ipython3",
   "version": "3.9.7"
  }
 },
 "nbformat": 4,
 "nbformat_minor": 5
}
