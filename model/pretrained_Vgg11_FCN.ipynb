{
 "cells": [
  {
   "cell_type": "code",
   "execution_count": 3,
   "id": "c8513cbc-803d-49ea-9526-41f3cc7761d8",
   "metadata": {},
   "outputs": [],
   "source": [
    "import torch\n",
    "import torch.nn as nn\n",
    "import torch.nn.functional as F\n",
    "import torchvision.models as models\n"
   ]
  },
  {
   "cell_type": "code",
   "execution_count": 4,
   "id": "131fa7d0-d7e1-44bc-a7cd-62e0802f50d5",
   "metadata": {},
   "outputs": [],
   "source": [
    "device = \"cuda\" if torch.cuda.is_available() else 'cpu'"
   ]
  },
  {
   "cell_type": "code",
   "execution_count": 6,
   "id": "79255453-dec3-4536-96cf-5d9e17906f38",
   "metadata": {},
   "outputs": [],
   "source": [
    "class Vgg11Fcn(nn.Module):\n",
    "    def __init__(self, pre_trained_model, num_class):\n",
    "        super(Vgg11Fcn,self).__init__()\n",
    "        self.pre_trained_model = pre_trained_model  ## outpur_size = 512,8,8\n",
    "        self.num_class = num_class\n",
    "        self.conv1= nn.Sequential(nn.Conv2d(512,4096, 1, groups=4),   #############################groups=2!!!!!!\n",
    "                                  nn.ReLU(),\n",
    "                                  nn.Dropout2d(p=0.2))### pretrained model output받기\n",
    "        self.conv2= nn.Sequential(nn.Conv2d(4096, 4096, 1,groups=4),   ##########################groups=2!!!\n",
    "                                  nn.ReLU(),\n",
    "                                  nn.Dropout2d(p=0.2))\n",
    "        self.upconvX2 = nn.Sequential(nn.ConvTranspose2d(self.num_class, self.num_class, kernel_size =2, stride = 2), ####padding???????\n",
    "                                    nn.ReLU(),\n",
    "                                    nn.BatchNorm2d(self.num_class))\n",
    "        self.upconvX8 = nn.Sequential(nn.ConvTranspose2d(self.num_class, self.num_class, kernel_size =8, stride = 8), ####padding???????\n",
    "                                    nn.ReLU(),\n",
    "                                    nn.BatchNorm2d(self.num_class))\n",
    "        self.feature = {'2':'pool1', \n",
    "                '5':'pool2',\n",
    "                '10':'pool3',\n",
    "                '15':'pool4',\n",
    "                '20':'output'}\n",
    "    \n",
    "    def get_features(self, x, model, layers):\n",
    "        features = {}\n",
    "        for name, layer in enumerate(model.children()):\n",
    "            x = layer(x)\n",
    "            if str(name) in layers:\n",
    "                features[layers[str(name)]] = x\n",
    "        return features\n",
    "        \n",
    "    def conv_num_class(self, x) :\n",
    "        input_channel = x.shape[1]    ###shape = (Bn, C, H, W)\n",
    "        model = nn.Conv2d(input_channel, self.num_class, 1).to(device)\n",
    "        return model(x)\n",
    "    \n",
    "    def Padding(self, x, n):\n",
    "        w,h = x.shape[3] ,x.shape[2]\n",
    "        wf,hf = 0 ,0\n",
    "        while w%n == 0. :\n",
    "            wf += 1\n",
    "            w = w+wf\n",
    "        while h%n == 0. :\n",
    "            hf += 1\n",
    "            h = h+hf\n",
    "        return F.pad(x, (hf,0,wf,0))  #####(wf,0, hf, 0) 아닌감\n",
    "         \n",
    "    def sum_(self, score, pool3, pool4):\n",
    "        if score.shape[2:] == pool3.shape[2:] == pool4.shape[2:] :\n",
    "            return score + pool3 + pool4\n",
    "        else :\n",
    "            h = score.shape[2] \n",
    "            w = score.shape[3] \n",
    "            pool3 = F.interpolate(pool3, size=(h, w), mode='bicubic', align_corners=False)\n",
    "            pool4 = F.interpolate(pool4, size=(h, w), mode='bicubic', align_corners=False)\n",
    "            return score + pool3 + pool4\n",
    "        \n",
    "    def forward(self, x):\n",
    "        x_h = x.shape[-2]\n",
    "        x_w = x.shape[-1]\n",
    "        x = x.to(device)\n",
    "        vgg11_output = self.get_features(x, self.pre_trained_model, self.feature)\n",
    "        score = self.conv1(vgg11_output['output'])\n",
    "        score = self.conv2(score)\n",
    "        score = self.conv_num_class(score)\n",
    "        ####### 4096, num_class, 1\n",
    "        score = self.upconvX2(self.upconvX2(score))  \n",
    "        pool3 = self.conv_num_class(vgg11_output['pool3'])  \n",
    "        ## *********** First layer Conv\n",
    "        pool4 = self.conv_num_class(vgg11_output['pool4'])\n",
    "        pool4 = self.upconvX2(pool4)\n",
    "        out = self.sum_(score, pool3, pool4)\n",
    "        out = self.upconvX8(out)\n",
    "        out = nn.Sequential(\n",
    "             nn.Upsample((x_h, x_w))\n",
    "            ,nn.Sigmoid())(out)\n",
    "        \n",
    "        return out"
   ]
  },
  {
   "cell_type": "code",
   "execution_count": 112,
   "id": "c24ca6f9-b620-4405-81c1-557ea467a5c9",
   "metadata": {},
   "outputs": [],
   "source": [
    "# pre_trained_model = models.vgg11(pretrained=True).features.to(device) ####VGG의 convolution 층(feature class) 까지만 가져옴\n",
    "# for param in pre_trained_model.parameters():\n",
    "#      param.requires_grad_(False)"
   ]
  },
  {
   "cell_type": "code",
   "execution_count": 113,
   "id": "1bca2eb6-4cdd-4f9f-84c0-2b0631323141",
   "metadata": {},
   "outputs": [],
   "source": [
    "#print(pre_trained_model)"
   ]
  },
  {
   "cell_type": "code",
   "execution_count": 114,
   "id": "d8edaff5-9901-4f04-a70e-5969e100bda9",
   "metadata": {
    "tags": []
   },
   "outputs": [],
   "source": [
    "# Vgg11_FCN = Vgg11Fcn(pre_trained_model, 150).to(device)"
   ]
  },
  {
   "cell_type": "code",
   "execution_count": 115,
   "id": "18012cfb-e052-4f6a-9fab-16950c5eb813",
   "metadata": {},
   "outputs": [],
   "source": [
    "#print(Vgg11_FCN)"
   ]
  },
  {
   "cell_type": "code",
   "execution_count": 116,
   "id": "7647f067-95d3-48a1-bb22-1d037863acf6",
   "metadata": {
    "tags": []
   },
   "outputs": [
    {
     "name": "stdout",
     "output_type": "stream",
     "text": [
      "----------------------------------------------------------------\n",
      "        Layer (type)               Output Shape         Param #\n",
      "================================================================\n",
      "            Conv2d-1         [-1, 64, 149, 199]           1,792\n",
      "              ReLU-2         [-1, 64, 149, 199]               0\n",
      "         MaxPool2d-3           [-1, 64, 74, 99]               0\n",
      "            Conv2d-4          [-1, 128, 74, 99]          73,856\n",
      "              ReLU-5          [-1, 128, 74, 99]               0\n",
      "         MaxPool2d-6          [-1, 128, 37, 49]               0\n",
      "            Conv2d-7          [-1, 256, 37, 49]         295,168\n",
      "              ReLU-8          [-1, 256, 37, 49]               0\n",
      "            Conv2d-9          [-1, 256, 37, 49]         590,080\n",
      "             ReLU-10          [-1, 256, 37, 49]               0\n",
      "        MaxPool2d-11          [-1, 256, 18, 24]               0\n",
      "           Conv2d-12          [-1, 512, 18, 24]       1,180,160\n",
      "             ReLU-13          [-1, 512, 18, 24]               0\n",
      "           Conv2d-14          [-1, 512, 18, 24]       2,359,808\n",
      "             ReLU-15          [-1, 512, 18, 24]               0\n",
      "        MaxPool2d-16           [-1, 512, 9, 12]               0\n",
      "           Conv2d-17           [-1, 512, 9, 12]       2,359,808\n",
      "             ReLU-18           [-1, 512, 9, 12]               0\n",
      "           Conv2d-19           [-1, 512, 9, 12]       2,359,808\n",
      "             ReLU-20           [-1, 512, 9, 12]               0\n",
      "        MaxPool2d-21            [-1, 512, 4, 6]               0\n",
      "           Conv2d-22           [-1, 4096, 4, 6]         528,384\n",
      "             ReLU-23           [-1, 4096, 4, 6]               0\n",
      "        Dropout2d-24           [-1, 4096, 4, 6]               0\n",
      "           Conv2d-25           [-1, 4096, 4, 6]       4,198,400\n",
      "             ReLU-26           [-1, 4096, 4, 6]               0\n",
      "        Dropout2d-27           [-1, 4096, 4, 6]               0\n",
      "  ConvTranspose2d-28           [-1, 150, 8, 12]          90,150\n",
      "             ReLU-29           [-1, 150, 8, 12]               0\n",
      "      BatchNorm2d-30           [-1, 150, 8, 12]             300\n",
      "  ConvTranspose2d-31          [-1, 150, 16, 24]          90,150\n",
      "             ReLU-32          [-1, 150, 16, 24]               0\n",
      "      BatchNorm2d-33          [-1, 150, 16, 24]             300\n",
      "  ConvTranspose2d-34          [-1, 150, 18, 24]          90,150\n",
      "             ReLU-35          [-1, 150, 18, 24]               0\n",
      "      BatchNorm2d-36          [-1, 150, 18, 24]             300\n",
      "  ConvTranspose2d-37        [-1, 150, 128, 192]       1,440,150\n",
      "             ReLU-38        [-1, 150, 128, 192]               0\n",
      "      BatchNorm2d-39        [-1, 150, 128, 192]             300\n",
      "================================================================\n",
      "Total params: 15,659,064\n",
      "Trainable params: 6,438,584\n",
      "Non-trainable params: 9,220,480\n",
      "----------------------------------------------------------------\n",
      "Input size (MB): 0.34\n",
      "Forward/backward pass size (MB): 164.58\n",
      "Params size (MB): 59.73\n",
      "Estimated Total Size (MB): 224.65\n",
      "----------------------------------------------------------------\n"
     ]
    }
   ],
   "source": [
    "# import torchsummary\n",
    "# torchsummary.summary(Vgg11_FCN, (3,149,199))"
   ]
  },
  {
   "cell_type": "code",
   "execution_count": 117,
   "id": "30d1a27e-3f42-44ee-a0bb-8736499e6712",
   "metadata": {},
   "outputs": [],
   "source": [
    "# s1 = torch.rand(1,3,127,124).to(device)"
   ]
  },
  {
   "cell_type": "code",
   "execution_count": 118,
   "id": "09ee3685-49e1-4011-a125-fe85e29946f2",
   "metadata": {},
   "outputs": [],
   "source": [
    "# Vgg11_FCN(s1).shape"
   ]
  },
  {
   "cell_type": "code",
   "execution_count": null,
   "id": "42660877-d22c-420a-96d5-c243da442db5",
   "metadata": {},
   "outputs": [],
   "source": [
    "11,157,176"
   ]
  },
  {
   "cell_type": "code",
   "execution_count": null,
   "id": "2b08ff6f-85b5-4c9a-811e-641be7651dc5",
   "metadata": {},
   "outputs": [],
   "source": []
  },
  {
   "cell_type": "code",
   "execution_count": null,
   "id": "bc42eabc-3afe-4a26-b779-4c23a2cd3956",
   "metadata": {},
   "outputs": [],
   "source": []
  }
 ],
 "metadata": {
  "kernelspec": {
   "display_name": "pytorch",
   "language": "python",
   "name": "pytorch"
  },
  "language_info": {
   "codemirror_mode": {
    "name": "ipython",
    "version": 3
   },
   "file_extension": ".py",
   "mimetype": "text/x-python",
   "name": "python",
   "nbconvert_exporter": "python",
   "pygments_lexer": "ipython3",
   "version": "3.9.7"
  }
 },
 "nbformat": 4,
 "nbformat_minor": 5
}
