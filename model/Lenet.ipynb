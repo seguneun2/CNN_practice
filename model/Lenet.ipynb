{
 "cells": [
  {
   "cell_type": "code",
   "execution_count": 1,
   "id": "7e20edda-644a-4aa3-91ce-62f2a7f389f1",
   "metadata": {},
   "outputs": [],
   "source": [
    "import torch\n",
    "import torch.nn as nn \n",
    "import torch.nn.functional as F"
   ]
  },
  {
   "cell_type": "code",
   "execution_count": 2,
   "id": "7b9f7fce-3c92-427e-998d-d52ed4431f41",
   "metadata": {},
   "outputs": [],
   "source": [
    "device = torch.device(\"cuda\" if torch.cuda.is_available() else \"cpu\")"
   ]
  },
  {
   "cell_type": "code",
   "execution_count": 3,
   "id": "0a438c8c-1804-43b6-9517-062161865943",
   "metadata": {},
   "outputs": [],
   "source": [
    "in_dim = 1\n",
    "num_class = 10\n",
    "fully_connect= [84]"
   ]
  },
  {
   "cell_type": "code",
   "execution_count": 4,
   "id": "91de56db-48db-4e15-9514-615ad3135e5d",
   "metadata": {},
   "outputs": [],
   "source": [
    "class Lenet(nn.Module):\n",
    "    def __init__(self, in_dim, num_class):\n",
    "        super(Lenet, self).__init__()\n",
    "        self.in_dim = in_dim\n",
    "        self.num_class = num_class\n",
    "        \n",
    "        self.conv1 = nn.Conv2d(in_dim, 6, kernel_size = 5)\n",
    "        self.pool1 = nn.AvgPool2d(kernel_size =2, stride = 2)\n",
    "        self.conv2 = nn.Conv2d(6, 16, kernel_size = 5)\n",
    "        self.pool2 = nn.AvgPool2d(kernel_size =2, stride = 2)\n",
    "\n",
    "    \n",
    "        \n",
    "    def forward(self, x):\n",
    "        out = self.conv1(x)\n",
    "        out = F.relu(out)\n",
    "        out = self.pool1(out)\n",
    "        \n",
    "        out = self.conv2(out)\n",
    "        out = F.relu(out)\n",
    "        out = self.pool2(out)\n",
    "        \n",
    "        out = torch.flatten(out, 1)\n",
    "        \n",
    "        out = nn.Linear(out.shape[1],fully_connect[0])\n",
    "        out = nn.Linear(fully_connect[0],num_class)\n",
    "        out = nn.Softmax(out)\n",
    "        return out\n",
    "        \n",
    "        \n",
    "        \n",
    "        \n",
    "        "
   ]
  },
  {
   "cell_type": "code",
   "execution_count": 5,
   "id": "0ae2fdf0-380d-4108-bfa8-3ca1b220071b",
   "metadata": {},
   "outputs": [],
   "source": [
    "model = Lenet(in_dim, num_class).to(device)"
   ]
  },
  {
   "cell_type": "code",
   "execution_count": 6,
   "id": "08d9b7c2-207a-4203-a8f1-ffc47cc15365",
   "metadata": {},
   "outputs": [
    {
     "data": {
      "text/plain": [
       "Lenet(\n",
       "  (conv1): Conv2d(1, 6, kernel_size=(5, 5), stride=(1, 1))\n",
       "  (pool1): AvgPool2d(kernel_size=2, stride=2, padding=0)\n",
       "  (conv2): Conv2d(6, 16, kernel_size=(5, 5), stride=(1, 1))\n",
       "  (pool2): AvgPool2d(kernel_size=2, stride=2, padding=0)\n",
       ")"
      ]
     },
     "execution_count": 6,
     "metadata": {},
     "output_type": "execute_result"
    }
   ],
   "source": [
    "model"
   ]
  },
  {
   "cell_type": "code",
   "execution_count": 7,
   "id": "846d094c-c210-49f5-963c-e3b987f55dce",
   "metadata": {},
   "outputs": [
    {
     "name": "stdout",
     "output_type": "stream",
     "text": [
      "----------------------------------------------------------------\n",
      "        Layer (type)               Output Shape         Param #\n",
      "================================================================\n",
      "            Conv2d-1            [-1, 6, 28, 28]             156\n",
      "         AvgPool2d-2            [-1, 6, 14, 14]               0\n",
      "            Conv2d-3           [-1, 16, 10, 10]           2,416\n",
      "         AvgPool2d-4             [-1, 16, 5, 5]               0\n",
      "================================================================\n",
      "Total params: 2,572\n",
      "Trainable params: 2,572\n",
      "Non-trainable params: 0\n",
      "----------------------------------------------------------------\n",
      "Input size (MB): 0.00\n",
      "Forward/backward pass size (MB): 0.06\n",
      "Params size (MB): 0.01\n",
      "Estimated Total Size (MB): 0.07\n",
      "----------------------------------------------------------------\n"
     ]
    }
   ],
   "source": [
    "import torchsummary\n",
    "torchsummary.summary(model,(1,32,32))"
   ]
  },
  {
   "cell_type": "code",
   "execution_count": null,
   "id": "32cedef7-956f-47a7-beed-f45713b70d33",
   "metadata": {},
   "outputs": [],
   "source": []
  },
  {
   "cell_type": "code",
   "execution_count": null,
   "id": "aef36dd0-2fa8-4dcd-835d-cf8683847b96",
   "metadata": {},
   "outputs": [],
   "source": []
  }
 ],
 "metadata": {
  "kernelspec": {
   "display_name": "pytorch",
   "language": "python",
   "name": "pytorch"
  },
  "language_info": {
   "codemirror_mode": {
    "name": "ipython",
    "version": 3
   },
   "file_extension": ".py",
   "mimetype": "text/x-python",
   "name": "python",
   "nbconvert_exporter": "python",
   "pygments_lexer": "ipython3",
   "version": "3.9.7"
  }
 },
 "nbformat": 4,
 "nbformat_minor": 5
}
