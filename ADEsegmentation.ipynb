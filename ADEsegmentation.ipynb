{
 "cells": [
  {
   "cell_type": "code",
   "execution_count": 4,
   "id": "5fb35653",
   "metadata": {},
   "outputs": [],
   "source": [
    "import import_ipynb\n",
    "import torch\n",
    "import torchvision.models as models\n",
    "import torchvision.transforms as transforms\n",
    "from PIL import Image\n",
    "from matplotlib import pyplot as plt\n",
    "import numpy as np\n",
    "import glob\n",
    "import pandas as pd\n",
    "import torchvision\n",
    "import torch.utils.data as data\n",
    "from torchvision.transforms.functional import to_pil_image\n",
    "import torch.utils.data as data\n",
    "import torch.nn as nn"
   ]
  },
  {
   "cell_type": "markdown",
   "id": "5b4b1c9e",
   "metadata": {
    "tags": []
   },
   "source": [
    "## Model import"
   ]
  },
  {
   "cell_type": "code",
   "execution_count": 5,
   "id": "945835e5",
   "metadata": {},
   "outputs": [
    {
     "name": "stdout",
     "output_type": "stream",
     "text": [
      "importing Jupyter notebook from pretrained_Vgg11_FCN.ipynb\n",
      "Using device cuda\n"
     ]
    }
   ],
   "source": [
    "import pretrained_Vgg11_FCN as Vgg11_FCN"
   ]
  },
  {
   "cell_type": "code",
   "execution_count": 6,
   "id": "68a557a8",
   "metadata": {},
   "outputs": [
    {
     "name": "stdout",
     "output_type": "stream",
     "text": [
      "Using cuda device\n"
     ]
    }
   ],
   "source": [
    "device = 'cuda' if torch.cuda.is_available else 'cpu'\n",
    "print(\"Using {} device\".format(device))"
   ]
  },
  {
   "cell_type": "code",
   "execution_count": 7,
   "id": "68ff9c2d",
   "metadata": {},
   "outputs": [],
   "source": [
    "pre_trained_model = models.vgg11(pretrained=True).features.to(device)"
   ]
  },
  {
   "cell_type": "code",
   "execution_count": null,
   "id": "2a00117e",
   "metadata": {},
   "outputs": [],
   "source": []
  },
  {
   "cell_type": "code",
   "execution_count": 8,
   "id": "9ff20966",
   "metadata": {},
   "outputs": [],
   "source": [
    "# for param in pre_trained_model.children():\n",
    "#     count = count_1\n",
    "#     if count < 8 :\n",
    "#         param.requires_grad = False\n",
    "#     else :\n",
    "#         param.requires_grad = True"
   ]
  },
  {
   "cell_type": "code",
   "execution_count": 9,
   "id": "414c62cd",
   "metadata": {},
   "outputs": [],
   "source": [
    "for param in pre_trained_model.children():\n",
    "     param.requires_grad_(False)"
   ]
  },
  {
   "cell_type": "code",
   "execution_count": 10,
   "id": "7b9108db",
   "metadata": {},
   "outputs": [],
   "source": [
    "model = Vgg11_FCN.Vgg11Fcn(pre_trained_model, 150).to(device)"
   ]
  },
  {
   "cell_type": "code",
   "execution_count": 11,
   "id": "9207b17a",
   "metadata": {},
   "outputs": [
    {
     "name": "stdout",
     "output_type": "stream",
     "text": [
      "pre_trained_model.0.weight \t torch.Size([64, 3, 3, 3])\n",
      "pre_trained_model.0.bias \t torch.Size([64])\n",
      "pre_trained_model.3.weight \t torch.Size([128, 64, 3, 3])\n",
      "pre_trained_model.3.bias \t torch.Size([128])\n",
      "pre_trained_model.6.weight \t torch.Size([256, 128, 3, 3])\n",
      "pre_trained_model.6.bias \t torch.Size([256])\n",
      "pre_trained_model.8.weight \t torch.Size([256, 256, 3, 3])\n",
      "pre_trained_model.8.bias \t torch.Size([256])\n",
      "pre_trained_model.11.weight \t torch.Size([512, 256, 3, 3])\n",
      "pre_trained_model.11.bias \t torch.Size([512])\n",
      "pre_trained_model.13.weight \t torch.Size([512, 512, 3, 3])\n",
      "pre_trained_model.13.bias \t torch.Size([512])\n",
      "pre_trained_model.16.weight \t torch.Size([512, 512, 3, 3])\n",
      "pre_trained_model.16.bias \t torch.Size([512])\n",
      "pre_trained_model.18.weight \t torch.Size([512, 512, 3, 3])\n",
      "pre_trained_model.18.bias \t torch.Size([512])\n",
      "conv1.0.weight \t torch.Size([4096, 128, 1, 1])\n",
      "conv1.0.bias \t torch.Size([4096])\n",
      "conv2.0.weight \t torch.Size([4096, 1024, 1, 1])\n",
      "conv2.0.bias \t torch.Size([4096])\n",
      "upconvX2.0.weight \t torch.Size([150, 150, 2, 2])\n",
      "upconvX2.0.bias \t torch.Size([150])\n",
      "upconvX2.2.weight \t torch.Size([150])\n",
      "upconvX2.2.bias \t torch.Size([150])\n",
      "upconvX2.2.running_mean \t torch.Size([150])\n",
      "upconvX2.2.running_var \t torch.Size([150])\n",
      "upconvX2.2.num_batches_tracked \t torch.Size([])\n",
      "upconvX8.0.weight \t torch.Size([150, 150, 8, 8])\n",
      "upconvX8.0.bias \t torch.Size([150])\n",
      "upconvX8.2.weight \t torch.Size([150])\n",
      "upconvX8.2.bias \t torch.Size([150])\n",
      "upconvX8.2.running_mean \t torch.Size([150])\n",
      "upconvX8.2.running_var \t torch.Size([150])\n",
      "upconvX8.2.num_batches_tracked \t torch.Size([])\n"
     ]
    }
   ],
   "source": [
    "for param_tensor in model.state_dict():\n",
    "    print(param_tensor, \"\\t\", model.state_dict()[param_tensor].size())"
   ]
  },
  {
   "cell_type": "code",
   "execution_count": 11,
   "id": "1ab60a75",
   "metadata": {},
   "outputs": [
    {
     "data": {
      "text/plain": [
       "==========================================================================================\n",
       "Layer (type:depth-idx)                   Output Shape              Param #\n",
       "==========================================================================================\n",
       "Vgg11Fcn                                 --                        --\n",
       "├─Sequential: 1                          --                        --\n",
       "│    └─Conv2d: 2-1                       [1, 64, 149, 199]         (1,792)\n",
       "│    └─ReLU: 2-2                         [1, 64, 149, 199]         --\n",
       "│    └─MaxPool2d: 2-3                    [1, 64, 74, 99]           --\n",
       "│    └─Conv2d: 2-4                       [1, 128, 74, 99]          (73,856)\n",
       "│    └─ReLU: 2-5                         [1, 128, 74, 99]          --\n",
       "│    └─MaxPool2d: 2-6                    [1, 128, 37, 49]          --\n",
       "│    └─Conv2d: 2-7                       [1, 256, 37, 49]          (295,168)\n",
       "│    └─ReLU: 2-8                         [1, 256, 37, 49]          --\n",
       "│    └─Conv2d: 2-9                       [1, 256, 37, 49]          (590,080)\n",
       "│    └─ReLU: 2-10                        [1, 256, 37, 49]          --\n",
       "│    └─MaxPool2d: 2-11                   [1, 256, 18, 24]          --\n",
       "│    └─Conv2d: 2-12                      [1, 512, 18, 24]          (1,180,160)\n",
       "│    └─ReLU: 2-13                        [1, 512, 18, 24]          --\n",
       "│    └─Conv2d: 2-14                      [1, 512, 18, 24]          (2,359,808)\n",
       "│    └─ReLU: 2-15                        [1, 512, 18, 24]          --\n",
       "│    └─MaxPool2d: 2-16                   [1, 512, 9, 12]           --\n",
       "│    └─Conv2d: 2-17                      [1, 512, 9, 12]           (2,359,808)\n",
       "│    └─ReLU: 2-18                        [1, 512, 9, 12]           --\n",
       "│    └─Conv2d: 2-19                      [1, 512, 9, 12]           (2,359,808)\n",
       "│    └─ReLU: 2-20                        [1, 512, 9, 12]           --\n",
       "│    └─MaxPool2d: 2-21                   [1, 512, 4, 6]            --\n",
       "├─Sequential: 1-1                        [1, 4096, 4, 6]           --\n",
       "│    └─Conv2d: 2-22                      [1, 4096, 4, 6]           528,384\n",
       "│    └─ReLU: 2-23                        [1, 4096, 4, 6]           --\n",
       "│    └─Dropout2d: 2-24                   [1, 4096, 4, 6]           --\n",
       "├─Sequential: 1-2                        [1, 4096, 4, 6]           --\n",
       "│    └─Conv2d: 2-25                      [1, 4096, 4, 6]           4,198,400\n",
       "│    └─ReLU: 2-26                        [1, 4096, 4, 6]           --\n",
       "│    └─Dropout2d: 2-27                   [1, 4096, 4, 6]           --\n",
       "├─Sequential: 1-3                        [1, 150, 8, 12]           --\n",
       "│    └─ConvTranspose2d: 2-28             [1, 150, 8, 12]           90,150\n",
       "│    └─ReLU: 2-29                        [1, 150, 8, 12]           --\n",
       "│    └─BatchNorm2d: 2-30                 [1, 150, 8, 12]           300\n",
       "├─Sequential: 1-4                        [1, 150, 16, 24]          (recursive)\n",
       "│    └─ConvTranspose2d: 2-31             [1, 150, 16, 24]          (recursive)\n",
       "│    └─ReLU: 2-32                        [1, 150, 16, 24]          --\n",
       "│    └─BatchNorm2d: 2-33                 [1, 150, 16, 24]          (recursive)\n",
       "├─Sequential: 1-5                        [1, 150, 18, 24]          (recursive)\n",
       "│    └─ConvTranspose2d: 2-34             [1, 150, 18, 24]          (recursive)\n",
       "│    └─ReLU: 2-35                        [1, 150, 18, 24]          --\n",
       "│    └─BatchNorm2d: 2-36                 [1, 150, 18, 24]          (recursive)\n",
       "├─Sequential: 1-6                        [1, 150, 128, 192]        --\n",
       "│    └─ConvTranspose2d: 2-37             [1, 150, 128, 192]        1,440,150\n",
       "│    └─ReLU: 2-38                        [1, 150, 128, 192]        --\n",
       "│    └─BatchNorm2d: 2-39                 [1, 150, 128, 192]        300\n",
       "==========================================================================================\n",
       "Total params: 15,478,164\n",
       "Trainable params: 6,257,684\n",
       "Non-trainable params: 9,220,480\n",
       "Total mult-adds (G): 39.83\n",
       "==========================================================================================\n",
       "Input size (MB): 0.36\n",
       "Forward/backward pass size (MB): 95.32\n",
       "Params size (MB): 61.91\n",
       "Estimated Total Size (MB): 157.59\n",
       "=========================================================================================="
      ]
     },
     "execution_count": 11,
     "metadata": {},
     "output_type": "execute_result"
    }
   ],
   "source": [
    "from torchinfo import summary\n",
    "summary(model, (1,3,149,199))"
   ]
  },
  {
   "cell_type": "code",
   "execution_count": 46,
   "id": "7d0d9d40",
   "metadata": {},
   "outputs": [
    {
     "data": {
      "text/plain": [
       "odict_keys(['pre_trained_model.0.weight', 'pre_trained_model.0.bias', 'pre_trained_model.3.weight', 'pre_trained_model.3.bias', 'pre_trained_model.6.weight', 'pre_trained_model.6.bias', 'pre_trained_model.8.weight', 'pre_trained_model.8.bias', 'pre_trained_model.11.weight', 'pre_trained_model.11.bias', 'pre_trained_model.13.weight', 'pre_trained_model.13.bias', 'pre_trained_model.16.weight', 'pre_trained_model.16.bias', 'pre_trained_model.18.weight', 'pre_trained_model.18.bias', 'conv1.0.weight', 'conv1.0.bias', 'conv2.0.weight', 'conv2.0.bias', 'upconvX2.0.weight', 'upconvX2.0.bias', 'upconvX2.2.weight', 'upconvX2.2.bias', 'upconvX2.2.running_mean', 'upconvX2.2.running_var', 'upconvX2.2.num_batches_tracked', 'upconvX8.0.weight', 'upconvX8.0.bias', 'upconvX8.2.weight', 'upconvX8.2.bias', 'upconvX8.2.running_mean', 'upconvX8.2.running_var', 'upconvX8.2.num_batches_tracked'])"
      ]
     },
     "execution_count": 46,
     "metadata": {},
     "output_type": "execute_result"
    }
   ],
   "source": [
    "model.state_dict().keys()"
   ]
  },
  {
   "cell_type": "code",
   "execution_count": 9,
   "id": "594c6984",
   "metadata": {},
   "outputs": [],
   "source": [
    "s1 = torch.rand(1,3, 256, 129).to(device)"
   ]
  },
  {
   "cell_type": "code",
   "execution_count": 10,
   "id": "c35bdc93",
   "metadata": {},
   "outputs": [
    {
     "data": {
      "text/plain": [
       "torch.Size([1, 150, 256, 129])"
      ]
     },
     "execution_count": 10,
     "metadata": {},
     "output_type": "execute_result"
    }
   ],
   "source": [
    "model(s1).shape"
   ]
  },
  {
   "cell_type": "markdown",
   "id": "42ee2456",
   "metadata": {
    "tags": []
   },
   "source": [
    "## DataLoad"
   ]
  },
  {
   "cell_type": "code",
   "execution_count": 14,
   "id": "1e88914f",
   "metadata": {
    "tags": []
   },
   "outputs": [],
   "source": [
    "image_dir = 'images/'\n",
    "annotation_dir = 'annotations_instance/'   ####25 class"
   ]
  },
  {
   "cell_type": "code",
   "execution_count": 15,
   "id": "2be7c557",
   "metadata": {},
   "outputs": [],
   "source": [
    "def train_image():\n",
    "    arr = []\n",
    "    with open(image_dir + 'training.txt', 'r') as file :\n",
    "        for i in file.readlines():\n",
    "            arr.append(image_dir + i[:-1])\n",
    "    return arr\n",
    "\n",
    "def validation_image():\n",
    "    arr = []\n",
    "    with open(image_dir + 'validation.txt', 'r') as file :\n",
    "        for i in file.readlines():\n",
    "            arr.append(image_dir + i[:-1])\n",
    "    return arr\n",
    "\n",
    "def train_annotation():\n",
    "    arr = []\n",
    "    with open(image_dir + 'training.txt', 'r') as file :\n",
    "        for i in file.readlines():\n",
    "            arr.append(annotation_dir + i[:-4] + 'png')\n",
    "    return arr\n",
    "\n",
    "def validation_annotation():\n",
    "    arr = []\n",
    "    with open(image_dir + 'validation.txt', 'r') as file :\n",
    "        for i in file.readlines():\n",
    "            arr.append(annotation_dir + i[:-4] + 'png')\n",
    "    return arr\n"
   ]
  },
  {
   "cell_type": "code",
   "execution_count": 16,
   "id": "c7d1787a",
   "metadata": {
    "tags": []
   },
   "outputs": [],
   "source": [
    "train_image = train_image()\n",
    "validation_image = validation_image()\n",
    "train_annotation = train_annotation()\n",
    "validation_annotation = validation_annotation()"
   ]
  },
  {
   "cell_type": "code",
   "execution_count": 17,
   "id": "0947ccff",
   "metadata": {
    "tags": []
   },
   "outputs": [],
   "source": [
    "def test_image():\n",
    "    test_list = 'release_test/list.txt'\n",
    "    test_image= 'release_test/testing/'\n",
    "    arr = []\n",
    "    with open(test_list, 'r' ) as file:\n",
    "        for i in file.readlines():\n",
    "            arr.append(test_image+ i[:-1])\n",
    "    return arr"
   ]
  },
  {
   "cell_type": "code",
   "execution_count": 18,
   "id": "9de38e72",
   "metadata": {},
   "outputs": [],
   "source": [
    "test_image = test_image()"
   ]
  },
  {
   "cell_type": "code",
   "execution_count": 19,
   "id": "4e421798",
   "metadata": {
    "tags": []
   },
   "outputs": [],
   "source": [
    "#test_image"
   ]
  },
  {
   "cell_type": "markdown",
   "id": "184f391b",
   "metadata": {
    "jp-MarkdownHeadingCollapsed": true,
    "tags": []
   },
   "source": [
    "## ..\n",
    "\n",
    "label = Image.open(train_annotation[1])"
   ]
  },
  {
   "cell_type": "markdown",
   "id": "4cd71a5e",
   "metadata": {},
   "source": [
    "## Dataload"
   ]
  },
  {
   "cell_type": "code",
   "execution_count": 22,
   "id": "4c30b7e5",
   "metadata": {
    "tags": []
   },
   "outputs": [],
   "source": [
    "class AED20k_dataset(data.Dataset):\n",
    "    def __init__(self, dataset):\n",
    "        super(AED20k_dataset, self).__init__()\n",
    "        if dataset == 'train' :\n",
    "            self.annotation = train_annotation\n",
    "            self.image = train_image\n",
    "        elif dataset == 'validation' :\n",
    "            self.annotation = validation_annotation\n",
    "            self.image = validation_image\n",
    "    \n",
    "    def img_preprocessing(self, x):\n",
    "        img_preprocess = transforms.Compose([\n",
    "            transforms.ToTensor(),\n",
    "            transforms.Normalize(mean=[0.485, 0.456, 0.406], std=[0.229, 0.224, 0.225]),\n",
    "            ])\n",
    "\n",
    "        return img_preprocess(x)        \n",
    "  \n",
    "    def __getitem__(self, index):\n",
    "        if torch.is_tensor(index):\n",
    "            index = idx.tolist()       \n",
    "        \n",
    "        image = self.image[index]\n",
    "        image = Image.open(image).convert(\"RGB\")    ### 0.~1. 사이의 torch.float32\n",
    "        ## image = torchvision.io.read_image(image)\n",
    "        image = self.img_preprocessing(image)\n",
    "        #if image.shape[0] != 3:\n",
    "            \n",
    "        \n",
    "        #assert image.shape[0] = 3 , \"input_image channel is not 3\"\n",
    "            \n",
    "            \n",
    "        \n",
    "        annotation = self.annotation[index]\n",
    "        annotation = torchvision.io.read_image(annotation)\n",
    "        annotation = annotation[0]  ###dtype=torch.uint8    0~255\n",
    "        \n",
    "        \n",
    "        return image, annotation\n",
    "        ##image.shape (chaennel = 3, H, W)\n",
    "        ##annotation.shape (H,W)\n",
    "        \n",
    "    def __len__(self):\n",
    "        return len(self.image)"
   ]
  },
  {
   "cell_type": "code",
   "execution_count": 23,
   "id": "78791308",
   "metadata": {},
   "outputs": [],
   "source": [
    "train_dataset = AED20k_dataset(\"train\")\n",
    "validation_datatset = AED20k_dataset(\"validation\")"
   ]
  },
  {
   "cell_type": "markdown",
   "id": "84ca5120",
   "metadata": {
    "tags": []
   },
   "source": [
    "## Train"
   ]
  },
  {
   "cell_type": "markdown",
   "id": "00953c46",
   "metadata": {
    "tags": []
   },
   "source": [
    "#### Early stopping"
   ]
  },
  {
   "cell_type": "code",
   "execution_count": 50,
   "id": "004e62da",
   "metadata": {},
   "outputs": [],
   "source": [
    "import os\n",
    "PATH = os.getcwd()\n",
    "model_save_path=  (PATH+ '/'+'FCNcheckpoint.pt')"
   ]
  },
  {
   "cell_type": "code",
   "execution_count": 51,
   "id": "de64568a",
   "metadata": {},
   "outputs": [],
   "source": [
    "train_dataloader = data.DataLoader(train_dataset,batch_size=1, shuffle = True)"
   ]
  },
  {
   "cell_type": "code",
   "execution_count": 52,
   "id": "962213fc",
   "metadata": {},
   "outputs": [],
   "source": [
    "validation_dataloader = data.DataLoader(validation_datatset,batch_size=1, shuffle = True)"
   ]
  },
  {
   "cell_type": "code",
   "execution_count": 53,
   "id": "be68f8f6",
   "metadata": {},
   "outputs": [],
   "source": [
    "class EarlyStopping:\n",
    "    def __init__(self, patience=3, verbose=False, delta=0):\n",
    "        \"\"\"\n",
    "        Args:\n",
    "            patience (int): validation loss가 개선된 후 기다리는 기간\n",
    "                            Default: 7\n",
    "            verbose (bool): True일 경우 각 validation loss의 개선 사항 메세지 출력\n",
    "                            Default: False\n",
    "            delta (float): 개선되었다고 인정되는 monitered quantity의 최소 변화\n",
    "                            Default: 0\n",
    "            path (str): checkpoint저장 경로\n",
    "                            Default: 'checkpoint.pt'\n",
    "        \"\"\"\n",
    "        self.patience = patience\n",
    "        self.verbose = verbose\n",
    "        self.counter = 0\n",
    "        self.best_score = None\n",
    "        self.early_stop = False\n",
    "        self.val_loss_min = np.Inf\n",
    "        self.delta = delta\n",
    "\n",
    "    def __call__(self, val_loss, model, path):\n",
    "\n",
    "        score = -val_loss\n",
    "\n",
    "        if self.best_score is None:\n",
    "            self.best_score = score\n",
    "            self.save_checkpoint(val_loss, model,path)\n",
    "        elif score < self.best_score + self.delta:\n",
    "            self.counter += 1\n",
    "            print(f'EarlyStopping counter: {self.counter} out of {self.patience}')\n",
    "            if self.counter >= self.patience:\n",
    "                self.early_stop = True\n",
    "        else:\n",
    "            self.best_score = score\n",
    "            self.save_checkpoint(val_loss, model, path)\n",
    "            self.counter = 0\n",
    "\n",
    "    def save_checkpoint(self, val_loss, model, path):\n",
    "        if self.verbose:\n",
    "            print(f'Validation loss decreased ({self.val_loss_min:.6f} --> {val_loss:.6f}).  Saving model ...')\n",
    "        torch.save(model.state_dict(), path)\n",
    "        self.val_loss_min = val_loss"
   ]
  },
  {
   "cell_type": "markdown",
   "id": "e9045387",
   "metadata": {},
   "source": [
    "### Train"
   ]
  },
  {
   "cell_type": "code",
   "execution_count": 54,
   "id": "a3acfb4f",
   "metadata": {},
   "outputs": [],
   "source": [
    "#### epoch 마다 모델 저장\n",
    "#### lr schduler +++ early stopping 적용 --> validation loss 늘어나면 저장, \n",
    "#### loss : one-hot label 과 model output값 1:1 지정 \n",
    "#### return 값 : H, W값\n"
   ]
  },
  {
   "cell_type": "code",
   "execution_count": 55,
   "id": "6fc6002f",
   "metadata": {},
   "outputs": [],
   "source": [
    "#total_params = sum(p.numel() for p in model.parameters() if p.requires_grad)"
   ]
  },
  {
   "cell_type": "code",
   "execution_count": 56,
   "id": "b2dc0d8d",
   "metadata": {},
   "outputs": [],
   "source": [
    "#total_params"
   ]
  },
  {
   "cell_type": "code",
   "execution_count": 106,
   "id": "b6e807e1",
   "metadata": {},
   "outputs": [],
   "source": [
    "n_epochs=10\n",
    "optimizer=torch.optim.Adam(model.parameters(), lr = 1e-4 )\n",
    "criterion = nn.BCELoss(reduce='mean') #nn.BCEWithLogitsLoss"
   ]
  },
  {
   "cell_type": "code",
   "execution_count": 58,
   "id": "2eb13e05",
   "metadata": {},
   "outputs": [],
   "source": [
    "from tqdm import tqdm"
   ]
  },
  {
   "cell_type": "code",
   "execution_count": 59,
   "id": "3e471ee4",
   "metadata": {},
   "outputs": [],
   "source": [
    "def one_hot(label, num_class):\n",
    "    label =label.type(torch.int64)\n",
    "    shape = label.shape  ### (b,h,w)\n",
    "    tensor = torch.zeros((shape[0], num_class) + shape[1:]).to(device) ####(num_class,h,w)\n",
    "    one_hot_tensor = tensor.scatter_(1, label.unsqueeze(1), 1.0)   ###(b,n,h,w)\n",
    "    return one_hot_tensor.to(device)\n",
    "####label = (bn, H, W)  ----one_hot--> (bn, num_class, H, W)"
   ]
  },
  {
   "cell_type": "code",
   "execution_count": 114,
   "id": "ea641d83",
   "metadata": {},
   "outputs": [],
   "source": [
    "def train_model(model, patience, n_epochs):\n",
    "    #### multi GPU\n",
    "    train_losses = []\n",
    "    valid_losses = []\n",
    "    avg_train_losses = []\n",
    "    avg_valid_losses = []\n",
    "    \n",
    "    #early_stopping = EarlyStopping(patience = patience, verbose = True)\n",
    "\n",
    "    for epoch in range(1, n_epochs + 1):\n",
    "        path=os.getcwd()+'/'+'FCNcheckpoint_BCELoss{}.pt'.format(epoch)\n",
    "        model.train() \n",
    "        for (data, label) in tqdm(train_dataloader, leave=False):\n",
    "            optimizer.zero_grad() \n",
    "            \n",
    "            data = data.to(device)\n",
    "            label = label.to(device)\n",
    "\n",
    "            output = model(data)\n",
    "            one_hot_label = one_hot(label, num_class= 150)\n",
    "            loss = criterion(output, one_hot_label)\n",
    "            #loss_ = torch.sum(output * one_hot_label, dim=1)\n",
    "            #loss_ = torch.sum(one_hot_label*one_hot_label, dim=1) - torch.sum(output * one_hot_label, dim=1)\n",
    "            #loss = torch.mean(loss_)  #loss - 정확도..????? loss 클수록 좋아짐\n",
    "            loss.backward()\n",
    "            optimizer.step()\n",
    "            train_losses.append(loss.item())\n",
    "            \n",
    "            del output, label\n",
    "            gc.collect()\n",
    "            torch.cuda.empty_cache()\n",
    "\n",
    "\n",
    "        model.eval()\n",
    "        for (data ,label) in tqdm(validation_dataloader, leave=False) :          \n",
    "            data = data.to(device)\n",
    "            label = label.to(device)\n",
    "            \n",
    "            output = model(data)\n",
    "            one_hot_label = one_hot(label, num_class= 150)\n",
    "            loss = criterion(output, one_hot_label)\n",
    "            #loss_ = torch.sum(one_hot_label*one_hot_label, dim=1) - torch.sum(output * one_hot_label, dim=1)\n",
    "            #loss = torch.mean(loss_)\n",
    "            \n",
    "            valid_losses.append(loss.item())\n",
    "            del output, label\n",
    "            torch.cuda.empty_cache()\n",
    "\n",
    "\n",
    "        train_loss = np.average(train_losses)\n",
    "        valid_loss = np.average(valid_losses)\n",
    "        avg_train_losses.append(train_loss)\n",
    "        avg_valid_losses.append(valid_loss)\n",
    "\n",
    "        epoch_len = len(str(n_epochs))\n",
    "        \n",
    "\n",
    "        print_msg = (f'[{epoch:>{epoch_len}}/{n_epochs:>{epoch_len}}] ' +\n",
    "                     f'train_loss: {train_loss:.5f} ' +\n",
    "                     f'valid_loss: {valid_loss:.5f}')\n",
    "        gc.collect()\n",
    "        torch.cuda.empty_cache()\n",
    "        print(print_msg)\n",
    "\n",
    "        train_losses = []\n",
    "        valid_losses = []\n",
    "        torch.save(model.state_dict(), path)\n",
    "        print(\"save model stat_dic, epoch : {}\".format(epoch))\n",
    "        #early_stopping(valid_loss, model, path)\n",
    "\n",
    "#         if early_stopping.early_stop:\n",
    "#             print(\"Early stopping\")\n",
    "#             break\n",
    "\n",
    "    model.load_state_dict(torch.load(path))\n",
    "\n",
    "    return  model, avg_train_losses, avg_valid_losses"
   ]
  },
  {
   "cell_type": "code",
   "execution_count": 115,
   "id": "99a96383",
   "metadata": {},
   "outputs": [],
   "source": [
    "import gc\n",
    "gc.collect()\n",
    "torch.cuda.empty_cache()"
   ]
  },
  {
   "cell_type": "code",
   "execution_count": 118,
   "id": "5d592d78",
   "metadata": {},
   "outputs": [
    {
     "data": {
      "application/vnd.jupyter.widget-view+json": {
       "model_id": "78b0b5e1b05041118d1329458fe25815",
       "version_major": 2,
       "version_minor": 0
      },
      "text/plain": [
       "HBox(children=(IntProgress(value=0, max=20210), HTML(value='')))"
      ]
     },
     "metadata": {},
     "output_type": "display_data"
    },
    {
     "data": {
      "application/vnd.jupyter.widget-view+json": {
       "model_id": "89a41ff6b4564d009857c4b1d935e780",
       "version_major": 2,
       "version_minor": 0
      },
      "text/plain": [
       "HBox(children=(IntProgress(value=0, max=2000), HTML(value='')))"
      ]
     },
     "metadata": {},
     "output_type": "display_data"
    },
    {
     "name": "stdout",
     "output_type": "stream",
     "text": [
      "[ 1/10] train_loss: 0.22550 valid_loss: 0.21404\n",
      "save model stat_dic, epoch : 1\n"
     ]
    },
    {
     "data": {
      "application/vnd.jupyter.widget-view+json": {
       "model_id": "163635c55a954560a6ce913f63a997bd",
       "version_major": 2,
       "version_minor": 0
      },
      "text/plain": [
       "HBox(children=(IntProgress(value=0, max=20210), HTML(value='')))"
      ]
     },
     "metadata": {},
     "output_type": "display_data"
    },
    {
     "data": {
      "application/vnd.jupyter.widget-view+json": {
       "model_id": "7d67443ab7ec4cef96029d1cf90f00a5",
       "version_major": 2,
       "version_minor": 0
      },
      "text/plain": [
       "HBox(children=(IntProgress(value=0, max=2000), HTML(value='')))"
      ]
     },
     "metadata": {},
     "output_type": "display_data"
    },
    {
     "name": "stdout",
     "output_type": "stream",
     "text": [
      "[ 2/10] train_loss: 0.19859 valid_loss: 0.19150\n",
      "save model stat_dic, epoch : 2\n"
     ]
    },
    {
     "data": {
      "application/vnd.jupyter.widget-view+json": {
       "model_id": "b916de76b16d473ca1d68ccd9f042c74",
       "version_major": 2,
       "version_minor": 0
      },
      "text/plain": [
       "HBox(children=(IntProgress(value=0, max=20210), HTML(value='')))"
      ]
     },
     "metadata": {},
     "output_type": "display_data"
    },
    {
     "data": {
      "application/vnd.jupyter.widget-view+json": {
       "model_id": "e2db64c7c41147229b32994abc0d1ad5",
       "version_major": 2,
       "version_minor": 0
      },
      "text/plain": [
       "HBox(children=(IntProgress(value=0, max=2000), HTML(value='')))"
      ]
     },
     "metadata": {},
     "output_type": "display_data"
    },
    {
     "name": "stdout",
     "output_type": "stream",
     "text": [
      "[ 3/10] train_loss: 0.17076 valid_loss: 0.15284\n",
      "save model stat_dic, epoch : 3\n"
     ]
    },
    {
     "data": {
      "application/vnd.jupyter.widget-view+json": {
       "model_id": "20ea27a215ac4416bc18fc14dd9a995f",
       "version_major": 2,
       "version_minor": 0
      },
      "text/plain": [
       "HBox(children=(IntProgress(value=0, max=20210), HTML(value='')))"
      ]
     },
     "metadata": {},
     "output_type": "display_data"
    },
    {
     "data": {
      "application/vnd.jupyter.widget-view+json": {
       "model_id": "c3b578a444e14d3989e65cb8d9ed9f22",
       "version_major": 2,
       "version_minor": 0
      },
      "text/plain": [
       "HBox(children=(IntProgress(value=0, max=2000), HTML(value='')))"
      ]
     },
     "metadata": {},
     "output_type": "display_data"
    },
    {
     "name": "stdout",
     "output_type": "stream",
     "text": [
      "[ 4/10] train_loss: 0.13486 valid_loss: 0.13477\n",
      "save model stat_dic, epoch : 4\n"
     ]
    },
    {
     "data": {
      "application/vnd.jupyter.widget-view+json": {
       "model_id": "db7a1b00075146ca8bc64ce0486197e1",
       "version_major": 2,
       "version_minor": 0
      },
      "text/plain": [
       "HBox(children=(IntProgress(value=0, max=20210), HTML(value='')))"
      ]
     },
     "metadata": {},
     "output_type": "display_data"
    },
    {
     "data": {
      "application/vnd.jupyter.widget-view+json": {
       "model_id": "7433b19c350840b9bff12feca1714ddd",
       "version_major": 2,
       "version_minor": 0
      },
      "text/plain": [
       "HBox(children=(IntProgress(value=0, max=2000), HTML(value='')))"
      ]
     },
     "metadata": {},
     "output_type": "display_data"
    },
    {
     "name": "stdout",
     "output_type": "stream",
     "text": [
      "[ 5/10] train_loss: 0.12631 valid_loss: 0.12417\n",
      "save model stat_dic, epoch : 5\n"
     ]
    },
    {
     "data": {
      "application/vnd.jupyter.widget-view+json": {
       "model_id": "2f2175451c954b2b9731d72eadd3113b",
       "version_major": 2,
       "version_minor": 0
      },
      "text/plain": [
       "HBox(children=(IntProgress(value=0, max=20210), HTML(value='')))"
      ]
     },
     "metadata": {},
     "output_type": "display_data"
    },
    {
     "data": {
      "application/vnd.jupyter.widget-view+json": {
       "model_id": "758440c2dd0f4cceae46d42d1ce52713",
       "version_major": 2,
       "version_minor": 0
      },
      "text/plain": [
       "HBox(children=(IntProgress(value=0, max=2000), HTML(value='')))"
      ]
     },
     "metadata": {},
     "output_type": "display_data"
    },
    {
     "name": "stdout",
     "output_type": "stream",
     "text": [
      "[ 6/10] train_loss: 0.11394 valid_loss: 0.11176\n",
      "save model stat_dic, epoch : 6\n"
     ]
    },
    {
     "data": {
      "application/vnd.jupyter.widget-view+json": {
       "model_id": "1e615c3d4d5c4611889f5f7d47a2898f",
       "version_major": 2,
       "version_minor": 0
      },
      "text/plain": [
       "HBox(children=(IntProgress(value=0, max=20210), HTML(value='')))"
      ]
     },
     "metadata": {},
     "output_type": "display_data"
    },
    {
     "data": {
      "application/vnd.jupyter.widget-view+json": {
       "model_id": "01bcaafb164e42a69080490010563682",
       "version_major": 2,
       "version_minor": 0
      },
      "text/plain": [
       "HBox(children=(IntProgress(value=0, max=2000), HTML(value='')))"
      ]
     },
     "metadata": {},
     "output_type": "display_data"
    },
    {
     "name": "stdout",
     "output_type": "stream",
     "text": [
      "[ 7/10] train_loss: 0.11047 valid_loss: 0.11350\n",
      "save model stat_dic, epoch : 7\n"
     ]
    },
    {
     "data": {
      "application/vnd.jupyter.widget-view+json": {
       "model_id": "bdb66f2b2a6e41aa8dfd6f763405f8a1",
       "version_major": 2,
       "version_minor": 0
      },
      "text/plain": [
       "HBox(children=(IntProgress(value=0, max=20210), HTML(value='')))"
      ]
     },
     "metadata": {},
     "output_type": "display_data"
    },
    {
     "data": {
      "application/vnd.jupyter.widget-view+json": {
       "model_id": "46dbbc49cd204c9093d1b3ff7db19141",
       "version_major": 2,
       "version_minor": 0
      },
      "text/plain": [
       "HBox(children=(IntProgress(value=0, max=2000), HTML(value='')))"
      ]
     },
     "metadata": {},
     "output_type": "display_data"
    },
    {
     "name": "stdout",
     "output_type": "stream",
     "text": [
      "[ 8/10] train_loss: 0.11023 valid_loss: 0.10289\n",
      "save model stat_dic, epoch : 8\n"
     ]
    },
    {
     "data": {
      "application/vnd.jupyter.widget-view+json": {
       "model_id": "41cada7d8383427e9a7309be4f1c8c2f",
       "version_major": 2,
       "version_minor": 0
      },
      "text/plain": [
       "HBox(children=(IntProgress(value=0, max=20210), HTML(value='')))"
      ]
     },
     "metadata": {},
     "output_type": "display_data"
    },
    {
     "data": {
      "application/vnd.jupyter.widget-view+json": {
       "model_id": "eafc19b9befb4d578e39e8e11914e862",
       "version_major": 2,
       "version_minor": 0
      },
      "text/plain": [
       "HBox(children=(IntProgress(value=0, max=2000), HTML(value='')))"
      ]
     },
     "metadata": {},
     "output_type": "display_data"
    },
    {
     "name": "stdout",
     "output_type": "stream",
     "text": [
      "[ 9/10] train_loss: 0.09607 valid_loss: 0.08179\n",
      "save model stat_dic, epoch : 9\n"
     ]
    },
    {
     "data": {
      "application/vnd.jupyter.widget-view+json": {
       "model_id": "e200a9a0e84143d99678546e2a6b57ee",
       "version_major": 2,
       "version_minor": 0
      },
      "text/plain": [
       "HBox(children=(IntProgress(value=0, max=20210), HTML(value='')))"
      ]
     },
     "metadata": {},
     "output_type": "display_data"
    },
    {
     "data": {
      "application/vnd.jupyter.widget-view+json": {
       "model_id": "dd6a04f89dde4e7682ffb282056775fc",
       "version_major": 2,
       "version_minor": 0
      },
      "text/plain": [
       "HBox(children=(IntProgress(value=0, max=2000), HTML(value='')))"
      ]
     },
     "metadata": {},
     "output_type": "display_data"
    },
    {
     "name": "stdout",
     "output_type": "stream",
     "text": [
      "[10/10] train_loss: 0.07978 valid_loss: 0.08146\n",
      "save model stat_dic, epoch : 10\n"
     ]
    },
    {
     "data": {
      "text/plain": [
       "(Vgg11Fcn(\n",
       "   (pre_trained_model): Sequential(\n",
       "     (0): Conv2d(3, 64, kernel_size=(3, 3), stride=(1, 1), padding=(1, 1))\n",
       "     (1): ReLU(inplace=True)\n",
       "     (2): MaxPool2d(kernel_size=2, stride=2, padding=0, dilation=1, ceil_mode=False)\n",
       "     (3): Conv2d(64, 128, kernel_size=(3, 3), stride=(1, 1), padding=(1, 1))\n",
       "     (4): ReLU(inplace=True)\n",
       "     (5): MaxPool2d(kernel_size=2, stride=2, padding=0, dilation=1, ceil_mode=False)\n",
       "     (6): Conv2d(128, 256, kernel_size=(3, 3), stride=(1, 1), padding=(1, 1))\n",
       "     (7): ReLU(inplace=True)\n",
       "     (8): Conv2d(256, 256, kernel_size=(3, 3), stride=(1, 1), padding=(1, 1))\n",
       "     (9): ReLU(inplace=True)\n",
       "     (10): MaxPool2d(kernel_size=2, stride=2, padding=0, dilation=1, ceil_mode=False)\n",
       "     (11): Conv2d(256, 512, kernel_size=(3, 3), stride=(1, 1), padding=(1, 1))\n",
       "     (12): ReLU(inplace=True)\n",
       "     (13): Conv2d(512, 512, kernel_size=(3, 3), stride=(1, 1), padding=(1, 1))\n",
       "     (14): ReLU(inplace=True)\n",
       "     (15): MaxPool2d(kernel_size=2, stride=2, padding=0, dilation=1, ceil_mode=False)\n",
       "     (16): Conv2d(512, 512, kernel_size=(3, 3), stride=(1, 1), padding=(1, 1))\n",
       "     (17): ReLU(inplace=True)\n",
       "     (18): Conv2d(512, 512, kernel_size=(3, 3), stride=(1, 1), padding=(1, 1))\n",
       "     (19): ReLU(inplace=True)\n",
       "     (20): MaxPool2d(kernel_size=2, stride=2, padding=0, dilation=1, ceil_mode=False)\n",
       "   )\n",
       "   (conv1): Sequential(\n",
       "     (0): Conv2d(512, 4096, kernel_size=(1, 1), stride=(1, 1), groups=4)\n",
       "     (1): ReLU()\n",
       "     (2): Dropout2d(p=0.2, inplace=False)\n",
       "   )\n",
       "   (conv2): Sequential(\n",
       "     (0): Conv2d(4096, 4096, kernel_size=(1, 1), stride=(1, 1), groups=4)\n",
       "     (1): ReLU()\n",
       "     (2): Dropout2d(p=0.2, inplace=False)\n",
       "   )\n",
       "   (upconvX2): Sequential(\n",
       "     (0): ConvTranspose2d(150, 150, kernel_size=(2, 2), stride=(2, 2))\n",
       "     (1): ReLU()\n",
       "     (2): BatchNorm2d(150, eps=1e-05, momentum=0.1, affine=True, track_running_stats=True)\n",
       "   )\n",
       "   (upconvX8): Sequential(\n",
       "     (0): ConvTranspose2d(150, 150, kernel_size=(8, 8), stride=(8, 8))\n",
       "     (1): ReLU()\n",
       "     (2): BatchNorm2d(150, eps=1e-05, momentum=0.1, affine=True, track_running_stats=True)\n",
       "   )\n",
       " ),\n",
       " [0.22549778511033441,\n",
       "  0.19859129525776373,\n",
       "  0.17075545001537243,\n",
       "  0.1348646213646604,\n",
       "  0.12631290451444238,\n",
       "  0.11394274553292344,\n",
       "  0.11047228725681442,\n",
       "  0.11022565534641576,\n",
       "  0.09607404855138474,\n",
       "  0.07977588286089726],\n",
       " [0.21404485306888818,\n",
       "  0.19150471027195454,\n",
       "  0.15284174037352205,\n",
       "  0.13477069563791155,\n",
       "  0.1241677970699966,\n",
       "  0.1117622126340866,\n",
       "  0.11349670485407114,\n",
       "  0.10288869448751212,\n",
       "  0.08179303041659296,\n",
       "  0.08146385980024934])"
      ]
     },
     "execution_count": 118,
     "metadata": {},
     "output_type": "execute_result"
    }
   ],
   "source": [
    "from tqdm.auto import tqdm\n",
    "train_model(model, 5, 10)"
   ]
  },
  {
   "cell_type": "code",
   "execution_count": null,
   "id": "900a63ae",
   "metadata": {},
   "outputs": [],
   "source": [
    "### 다시 train_model 하면 initialize???"
   ]
  },
  {
   "cell_type": "code",
   "execution_count": null,
   "id": "a347e0ab",
   "metadata": {},
   "outputs": [],
   "source": [
    "# # # 2153"
   ]
  },
  {
   "cell_type": "markdown",
   "id": "ef117238",
   "metadata": {},
   "source": [
    "## Model load, test\n",
    "\n",
    "= pre_trained_model.0.weight ==> \"module.pre_trained_model.0.weight 로 저장되서 unmatch"
   ]
  },
  {
   "cell_type": "code",
   "execution_count": 3,
   "id": "368eff4b",
   "metadata": {},
   "outputs": [],
   "source": [
    "path = 'FCNcheckpoint_BCELoss9.pt'"
   ]
  },
  {
   "cell_type": "code",
   "execution_count": 12,
   "id": "2cef2d63",
   "metadata": {},
   "outputs": [
    {
     "data": {
      "text/plain": [
       "<All keys matched successfully>"
      ]
     },
     "execution_count": 12,
     "metadata": {},
     "output_type": "execute_result"
    }
   ],
   "source": [
    "model.load_state_dict(torch.load(path))"
   ]
  },
  {
   "cell_type": "code",
   "execution_count": 30,
   "id": "e68f4075",
   "metadata": {},
   "outputs": [],
   "source": [
    "class model_test():\n",
    "    def __init__(self, test_dataset):\n",
    "        self.dataset = test_dataset\n",
    "            \n",
    "    def img_preprocessing(self, x):\n",
    "        img_preprocess = transforms.Compose([\n",
    "            transforms.ToTensor(),\n",
    "            transforms.Normalize(mean=[0.485, 0.456, 0.406], std=[0.229, 0.224, 0.225]),\n",
    "            ])\n",
    "        return img_preprocess(x)     \n",
    "\n",
    "    def model_pred_img(self, index):\n",
    "        img = self.dataset[index]\n",
    "        img = Image.open(img).convert(\"RGB\") \n",
    "        x = self.img_preprocessing(img)\n",
    "        x = x.unsqueeze(0).to(device)\n",
    "        pred = model(x) ##(1, 150, H, W)\n",
    "        pred_label = torch.argmax(pred, dim=1) ###(1,H,W)\n",
    "        plt.imshow(img)\n",
    "        plt.show()\n",
    "        plt.imshow(pred_label.cpu().squeeze())\n",
    "        plt.show()\n",
    "        #return img, pred_label\n",
    "    \n",
    "\n",
    "    "
   ]
  },
  {
   "cell_type": "code",
   "execution_count": 31,
   "id": "697ef44c",
   "metadata": {},
   "outputs": [],
   "source": [
    "model_test = model_test(test_image)"
   ]
  },
  {
   "cell_type": "code",
   "execution_count": 36,
   "id": "c53832d0",
   "metadata": {},
   "outputs": [
    {
     "data": {
      "image/png": "[encoded data removed]",
      "text/plain": [
       "<Figure size 432x288 with 1 Axes>"
      ]
     },
     "metadata": {
      "needs_background": "light"
     },
     "output_type": "display_data"
    },
    {
     "data": {
      "image/png": "[encoded data removed]",
      "text/plain": [
       "<Figure size 432x288 with 1 Axes>"
      ]
     },
     "metadata": {
      "needs_background": "light"
     },
     "output_type": "display_data"
    }
   ],
   "source": [
    "model_test.model_pred_img(17)\n"
   ]
  },
  {
   "cell_type": "code",
   "execution_count": null,
   "id": "6f6a6261",
   "metadata": {},
   "outputs": [],
   "source": []
  }
 ],
 "metadata": {
  "kernelspec": {
   "display_name": "seungeun_env",
   "language": "python",
   "name": "seungeun_env"
  },
  "language_info": {
   "codemirror_mode": {
    "name": "ipython",
    "version": 3
   },
   "file_extension": ".py",
   "mimetype": "text/x-python",
   "name": "python",
   "nbconvert_exporter": "python",
   "pygments_lexer": "ipython3",
   "version": "3.8.5"
  }
 },
 "nbformat": 4,
 "nbformat_minor": 5
}
